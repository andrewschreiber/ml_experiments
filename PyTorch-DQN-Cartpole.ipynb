{
 "cells": [
  {
   "cell_type": "code",
   "execution_count": 1,
   "metadata": {},
   "outputs": [
    {
     "data": {
      "application/javascript": [
       "IPython.notebook.set_autosave_interval(1800000)"
      ]
     },
     "metadata": {},
     "output_type": "display_data"
    },
    {
     "name": "stdout",
     "output_type": "stream",
     "text": [
      "Autosaving every 1800 seconds\n"
     ]
    }
   ],
   "source": [
    "%autosave 1800\n",
    "%matplotlib inline\n",
    "from helpers.gym_render import display_frames_as_gif\n",
    "import matplotlib.pyplot as plt\n",
    "import gym\n",
    "from hyperdash import monitor_cell\n",
    "import numpy as np"
   ]
  },
  {
   "cell_type": "code",
   "execution_count": 2,
   "metadata": {
    "collapsed": true
   },
   "outputs": [],
   "source": [
    "import torch\n",
    "import torch.nn.functional as F"
   ]
  },
  {
   "cell_type": "code",
   "execution_count": 3,
   "metadata": {},
   "outputs": [
    {
     "name": "stderr",
     "output_type": "stream",
     "text": [
      "[2017-07-31 15:04:18,014] Making new env: CartPole-v0\n"
     ]
    }
   ],
   "source": [
    "env = gym.make('CartPole-v0').unwrapped"
   ]
  },
  {
   "cell_type": "code",
   "execution_count": 4,
   "metadata": {},
   "outputs": [
    {
     "name": "stdout",
     "output_type": "stream",
     "text": [
      "Cuda ready\n"
     ]
    }
   ],
   "source": [
    "# confirm cuda\n",
    "if torch.cuda.is_available():\n",
    "    print(\"Cuda ready\")\n",
    "    \n",
    "use_cuda = True\n",
    "FloatTensor = torch.cuda.FloatTensor if use_cuda else torch.FloatTensor\n",
    "LongTensor = torch.cuda.LongTensor if use_cuda else torch.LongTensor\n",
    "ByteTensor = torch.cuda.ByteTensor if use_cuda else torch.ByteTensor\n",
    "Tensor = FloatTensor"
   ]
  },
  {
   "cell_type": "code",
   "execution_count": 5,
   "metadata": {
    "collapsed": true
   },
   "outputs": [],
   "source": [
    "# Store state transitions for reuse later\n",
    "# Sample randomly to decorrelate transitions in batch\n",
    "\n",
    "from collections import namedtuple"
   ]
  },
  {
   "cell_type": "code",
   "execution_count": 6,
   "metadata": {
    "collapsed": true
   },
   "outputs": [],
   "source": [
    "Transition = namedtuple('Transition',\n",
    "                        ('state', 'action', 'next_state', 'reward'))\n",
    "\n",
    "class ReplayMemory(object):\n",
    "    def __init__(self, capacity):\n",
    "        self.capacity = capacity\n",
    "        self.memory = []\n",
    "        self.position = 0\n",
    "    \n",
    "    def push(self, *args):\n",
    "        \"\"\"saves a transition.\"\"\"\n",
    "        if len(self.memory) < self.capacity:\n",
    "            self.memory.append(None)\n",
    "        self.memory[self.position] = Transition(*args)\n",
    "        self.position = (self.position + 1) % self.capacity\n",
    "    \n",
    "    def sample(self, batch_size):\n",
    "        return random.sample(self.memory, batch_size)\n",
    "    \n",
    "    def __len__(self):\n",
    "        return len(self.memory)"
   ]
  },
  {
   "cell_type": "code",
   "execution_count": 52,
   "metadata": {
    "collapsed": true
   },
   "outputs": [],
   "source": [
    "## Hyper params\n",
    "\n",
    "KER_SI = 5\n",
    "STRIDE = 2\n",
    "\n",
    "CH = 32 #base number of channels\n",
    "CH_2 = CH * 2\n",
    "HEAD = CH * 6\n",
    "\n",
    "class DQN(torch.nn.Module):\n",
    "    def __init__(self): # 3 conv w/ batch norm -> Linear layer\n",
    "        super(DQN, self).__init__()\n",
    "        self.conv1 = torch.nn.Conv2d(3, CH, kernel_size=KER_SI, stride=STRIDE)\n",
    "        self.bn1 = torch.nn.BatchNorm2d(CH)\n",
    "        self.conv2 = torch.nn.Conv2d(CH, CH_2, kernel_size=KER_SI, stride=STRIDE)\n",
    "        self.bn2 = torch.nn.BatchNorm2d(CH_2)\n",
    "        self.conv3 = torch.nn.Conv2d(CH_2, CH_2, kernel_size=KER_SI, stride=STRIDE)\n",
    "        self.bn3 = torch.nn.BatchNorm2d(CH_2)\n",
    "#         self.lin1 = torch.nn.Linear(HEAD, HEAD)\n",
    "        self.head = torch.nn.Linear(HEAD, 2) #left / right\n",
    "\n",
    "    def forward(self, x):\n",
    "        x = torch.nn.functional.relu(self.bn1(self.conv1(x)))\n",
    "        x = torch.nn.functional.relu(self.bn2(self.conv2(x)))\n",
    "        x = torch.nn.functional.relu(self.bn3(self.conv3(x)))\n",
    "        return self.head(x.view(x.size(0), -1))"
   ]
  },
  {
   "cell_type": "code",
   "execution_count": 53,
   "metadata": {},
   "outputs": [
    {
     "data": {
      "text/plain": [
       "array([ 0.04812388, -0.04385895,  0.03194984,  0.00392383])"
      ]
     },
     "execution_count": 53,
     "metadata": {},
     "output_type": "execute_result"
    }
   ],
   "source": [
    "env.reset()"
   ]
  },
  {
   "cell_type": "code",
   "execution_count": 54,
   "metadata": {
    "collapsed": true
   },
   "outputs": [],
   "source": [
    "import torchvision.transforms as T\n",
    "from PIL import Image\n",
    "IMAGE_WIDTH = 30\n",
    "resize = T.Compose([T.ToPILImage(),\n",
    "                    T.Scale(IMAGE_WIDTH, interpolation=Image.CUBIC),\n",
    "                    T.ToTensor()])\n",
    "def get_screen(env):\n",
    "    # transpose into torch order (CHW)\n",
    "    screen = env.render(mode='rgb_array').transpose((2, 0, 1)) \n",
    "    screen = np.ascontiguousarray(screen, dtype=np.float32) / 255\n",
    "    screen = torch.from_numpy(screen)\n",
    "#     print(screen.cpu().numpy().shape)\n",
    "    # Resize, and add a batch dimension (BCHW)\n",
    "    screen = resize(screen).unsqueeze(0).type(FloatTensor)\n",
    "    return screen\n",
    "# get_screen(env)"
   ]
  },
  {
   "cell_type": "code",
   "execution_count": 68,
   "metadata": {},
   "outputs": [
    {
     "name": "stdout",
     "output_type": "stream",
     "text": [
      "<generator object parameters at 0x7fbcad2b4a00>\n",
      "Mean duration over past 100 eps: 106.212121212 - episode 301\n",
      "Mean duration over past 100 eps: 102.444444444 - episode 401\n"
     ]
    }
   ],
   "source": []
  },
  {
   "cell_type": "code",
   "execution_count": 55,
   "metadata": {
    "collapsed": true
   },
   "outputs": [],
   "source": [
    "from torch.autograd import Variable\n",
    "\n",
    "BATCH_SIZE = 256\n",
    "GAMMA = 0.999\n",
    "EPS_START = 0.2\n",
    "EPS_END = 0.0001\n",
    "EPS_DECAY = 200\n",
    "MEMORY = 1000000\n",
    "\n",
    "model = DQN()\n",
    "if use_cuda:\n",
    "     model.cuda()\n",
    "\n",
    "#A\n",
    "optims = [\"torch.optim.Adam(model.parameters())\", \"torch.optim.SGD(model.parameters())\"]        \n",
    "optimizer = distrib.prop(\"optim\", optimizers, mode=\"code\")\n",
    "\n",
    "#B\n",
    "optim = distrib.prop(\"optim\", [\"Adam\", \"SGD\"])\n",
    "if optim == \"Adam\":\n",
    "    optimizer = torch.optim.Adam(model.parameters())\n",
    "elif optim == \"SGD\":\n",
    "    optimizer = torch.optim.SGD(model.parameters())\n",
    "\n",
    "\n",
    "optimizer = torch.optim.Adam(model.parameters())\n",
    "memory = ReplayMemory(MEMORY)\n",
    "\n",
    "steps_done = 0\n",
    "thresholds = []\n",
    "def select_action(state):\n",
    "    global steps_done\n",
    "    sample = random.random()\n",
    "    # epsilon greedy policy\n",
    "    eps_threshold = EPS_END + (EPS_START - EPS_END) * math.exp(-1. * steps_done / EPS_DECAY)\n",
    "    thresholds.append(eps_threshold)\n",
    "    steps_done += 1\n",
    "    if sample > eps_threshold:\n",
    "        q = model(Variable(state, volatile=True).type(FloatTensor))\n",
    "        return q.data.max(1)[1].view(1,1)\n",
    "    else:\n",
    "        return LongTensor([[random.randrange(2)]]) # random action\n",
    "    \n",
    "episode_durations = []"
   ]
  },
  {
   "cell_type": "code",
   "execution_count": 56,
   "metadata": {
    "collapsed": true
   },
   "outputs": [],
   "source": [
    "# Helper\n",
    "from IPython import display\n",
    "\n",
    "def plot_durations():\n",
    "    plt.figure(2)\n",
    "    plt.clf()\n",
    "    durations_t = torch.FloatTensor(episode_durations)\n",
    "    plt.title('Training')\n",
    "    plt.xlabel('Episode')\n",
    "    plt.ylabel('Duration')\n",
    "    plt.plot(durations_t.numpy())\n",
    "\n",
    "    plt.pause(0.001)  # pause a bit so that plots are updated\n",
    "    display.clear_output(wait=True)\n",
    "    display.display(plt.gcf())"
   ]
  },
  {
   "cell_type": "code",
   "execution_count": 57,
   "metadata": {
    "collapsed": true
   },
   "outputs": [],
   "source": [
    "def optimize_model():\n",
    "    if len(memory) < BATCH_SIZE: #skip first batch\n",
    "        return\n",
    "    transitions = memory.sample(BATCH_SIZE)\n",
    "    batch = Transition(*zip(*transitions))\n",
    "    \n",
    "    non_final_mask = ByteTensor(tuple(map(lambda s: s is not None, \n",
    "                                          batch.next_state)))\n",
    "    non_final_next_states = Variable(torch.cat([s for s in batch.next_state\n",
    "                                               if s is not None]),\n",
    "                                     volatile=True)\n",
    "    state_batch = Variable(torch.cat(batch.state))\n",
    "    action_batch = Variable(torch.cat(batch.action))\n",
    "    reward_batch = Variable(torch.cat(batch.reward))\n",
    "    \n",
    "    # Compute Q(s_t, a) - the model computes Q(s_t), then we select the\n",
    "    # columns of actions taken\n",
    "    state_action_values = model(state_batch).gather(1, action_batch)\n",
    "    \n",
    "    # Computer V(s_{t+1}) for all next states\n",
    "    next_state_values = Variable(torch.zeros(BATCH_SIZE).type(FloatTensor))\n",
    "    next_state_values[non_final_mask] = model(non_final_next_states).max(1)[0]\n",
    "    \n",
    "    next_state_values.volatile = False\n",
    "    # Compute expected Q vals\n",
    "    expected_state_action_values = (next_state_values * GAMMA) + reward_batch\n",
    "    \n",
    "    # Compute Huber loss\n",
    "    loss = F.smooth_l1_loss(state_action_values, expected_state_action_values)\n",
    "    \n",
    "    optimizer.zero_grad()\n",
    "    loss.backward()\n",
    "    for param in model.parameters():\n",
    "        param.grad.data.clamp_(-1,1)\n",
    "    optimizer.step()\n",
    "    "
   ]
  },
  {
   "cell_type": "code",
   "execution_count": 58,
   "metadata": {
    "collapsed": true
   },
   "outputs": [],
   "source": [
    "import math\n",
    "import random\n",
    "from itertools import count\n"
   ]
  },
  {
   "cell_type": "code",
   "execution_count": 59,
   "metadata": {},
   "outputs": [
    {
     "name": "stdout",
     "output_type": "stream",
     "text": [
      "Setting up with hyperparams:\n",
      "('Episodes', 800)\n",
      "('Kernal size', 5)\n",
      "('Stride', 2)\n",
      "('Base conv nodes', 32)\n",
      "('Middle conv nodes', 64)\n",
      "('Head nodes', 192)\n",
      "('Batch size', 256)\n",
      "('MEMORY', 1000000)\n",
      "('Gamma', 0.999)\n",
      "('Epsilon start', 0.2)\n",
      "('Epsilon end', 0.0001)\n",
      "('Epsilon decay', 200)\n",
      "('Image width', 30)\n",
      "[]\n"
     ]
    },
    {
     "ename": "SystemExit",
     "evalue": "130",
     "output_type": "error",
     "traceback": [
      "An exception has occurred, use %tb to see the full traceback.\n",
      "\u001b[0;31mSystemExit\u001b[0m\u001b[0;31m:\u001b[0m 130\n"
     ]
    },
    {
     "name": "stderr",
     "output_type": "stream",
     "text": [
      "/home/paperspace/anaconda2/envs/p27/lib/python2.7/site-packages/IPython/core/interactiveshell.py:2890: UserWarning: To exit: use 'exit', 'quit', or Ctrl-D.\n",
      "  warn(\"To exit: use 'exit', 'quit', or Ctrl-D.\", stacklevel=1)\n"
     ]
    },
    {
     "name": "stdout",
     "output_type": "stream",
     "text": [
      "Mean duration over past 100 eps: 43.4242424242 - episode 101\n"
     ]
    }
   ],
   "source": [
    "%%monitor_cell \"DQN Cartpole\"\n",
    "NUM_EPISODES = 800\n",
    "print(\"Setting up with hyperparams:\")\n",
    "print(\"Episodes\",NUM_EPISODES)\n",
    "print(\"Kernal size\", KER_SI)\n",
    "print(\"Stride\",STRIDE)\n",
    "print(\"Base conv nodes\", CH)\n",
    "print(\"Middle conv nodes\", CH_2)\n",
    "print(\"Head nodes\",HEAD)\n",
    "print(\"Batch size\", BATCH_SIZE)\n",
    "print(\"MEMORY\", MEMORY)\n",
    "print(\"Gamma\", GAMMA)\n",
    "print(\"Epsilon start\", EPS_START)\n",
    "print(\"Epsilon end\", EPS_END)\n",
    "print(\"Epsilon decay\", EPS_DECAY)\n",
    "print(\"Image width\",IMAGE_WIDTH)\n",
    "print(episode_durations)\n",
    "\n",
    "good_runs = []\n",
    "weak_runs = []\n",
    "for ep in range (NUM_EPISODES):\n",
    "    env.reset()\n",
    "    last_screen = get_screen(env)\n",
    "    current_screen = get_screen(env)\n",
    "    state = current_screen - last_screen\n",
    "    frames = []\n",
    "    record = False\n",
    "\n",
    "    for t in count():\n",
    "        action = select_action(state)\n",
    "        _, reward, done, _ = env.step(action[0,0])\n",
    "        reward = FloatTensor([reward])\n",
    "        last_screen = current_screen\n",
    "        current_screen = get_screen(env)\n",
    "        if not done:\n",
    "            next_state = current_screen - last_screen\n",
    "        else:\n",
    "            next_state = None\n",
    "        memory.push(state, action, next_state, reward)\n",
    "        if record:\n",
    "            frames.append(np.squeeze(current_screen.cpu().numpy(), axis=0).swapaxes(0,2).swapaxes(0,1))\n",
    "        \n",
    "        state = next_state\n",
    "#         show_state(env, t)\n",
    "        optimize_model()\n",
    "        if done:\n",
    "            episode_durations.append(t+1)\n",
    "#             plot_durations()\n",
    "            if ep % 100 == 0 and ep != 0:\n",
    "                recent = episode_durations[-99:]\n",
    "                print(\"Mean duration over past 100 eps: {} - episode {}\".format(np.mean(recent), len(episode_durations)))\n",
    "            if record:\n",
    "                if t > 100:\n",
    "                    good_runs.append(frames)\n",
    "                    print(\"good run\", len(good_runs))\n",
    "                elif ep > 200 and t > 25 and t < 40:\n",
    "                    weak_runs.append(frames)\n",
    "                    print(\"Weak run\", len(weak_runs))\n",
    "            break\n",
    "            \n",
    "print(\"Done! Total episodes\", len(episode_durations))\n",
    "print(\"Max duration\", max(episode_durations))\n",
    "print(\"Average duration\", np.mean(episode_durations))\n",
    "print(\"Average last 50 duration\", np.mean(episode_durations[-50:]))\n",
    "solved = [x for x in episode_durations if x > 194]\n",
    "print(\"Times solved\", len(solved))\n",
    "env.render(close=True)\n",
    "env.close()\n",
    "        \n",
    "        "
   ]
  },
  {
   "cell_type": "code",
   "execution_count": 27,
   "metadata": {},
   "outputs": [
    {
     "data": {
      "image/png": "[encoded data removed]",
      "text/plain": [
       "<matplotlib.figure.Figure at 0x7fbcad350f50>"
      ]
     },
     "metadata": {},
     "output_type": "display_data"
    }
   ],
   "source": [
    "\n",
    "def smooth(y, box_pts):\n",
    "    box = np.ones(box_pts)/box_pts\n",
    "    y_smooth = np.convolve(y, box, mode='same')\n",
    "    return y_smooth\n",
    "\n",
    "plt.plot(episode_durations)\n",
    "plt.plot(smooth(episode_durations,30), \"r-\", lw=2)\n",
    "plt.show()"
   ]
  },
  {
   "cell_type": "code",
   "execution_count": null,
   "metadata": {
    "collapsed": true
   },
   "outputs": [],
   "source": [
    "all_f = [frame for video in good_runs for frame in video]"
   ]
  },
  {
   "cell_type": "code",
   "execution_count": null,
   "metadata": {
    "collapsed": true
   },
   "outputs": [],
   "source": [
    "display_frames_as_gif(all_f)"
   ]
  },
  {
   "cell_type": "code",
   "execution_count": null,
   "metadata": {
    "collapsed": true
   },
   "outputs": [],
   "source": []
  },
  {
   "cell_type": "code",
   "execution_count": null,
   "metadata": {
    "collapsed": true
   },
   "outputs": [],
   "source": [
    "# for i in range(len(good_runs)):\n",
    "#     display_frames_as_gif(good_runs[i])"
   ]
  },
  {
   "cell_type": "code",
   "execution_count": null,
   "metadata": {
    "collapsed": true
   },
   "outputs": [],
   "source": []
  },
  {
   "cell_type": "code",
   "execution_count": null,
   "metadata": {
    "collapsed": true
   },
   "outputs": [],
   "source": []
  },
  {
   "cell_type": "code",
   "execution_count": null,
   "metadata": {
    "collapsed": true
   },
   "outputs": [],
   "source": []
  },
  {
   "cell_type": "code",
   "execution_count": null,
   "metadata": {
    "collapsed": true
   },
   "outputs": [],
   "source": []
  },
  {
   "cell_type": "code",
   "execution_count": null,
   "metadata": {
    "collapsed": true
   },
   "outputs": [],
   "source": []
  }
 ],
 "metadata": {
  "kernelspec": {
   "display_name": "Python [default]",
   "language": "python",
   "name": "python2"
  },
  "language_info": {
   "codemirror_mode": {
    "name": "ipython",
    "version": 2
   },
   "file_extension": ".py",
   "mimetype": "text/x-python",
   "name": "python",
   "nbconvert_exporter": "python",
   "pygments_lexer": "ipython2",
   "version": "2.7.13"
  }
 },
 "nbformat": 4,
 "nbformat_minor": 2
}
