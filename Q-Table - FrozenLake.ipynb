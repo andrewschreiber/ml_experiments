{
 "cells": [
  {
   "cell_type": "code",
   "execution_count": 1,
   "metadata": {
    "collapsed": true
   },
   "outputs": [],
   "source": [
    "from hyperdash import monitor_cell"
   ]
  },
  {
   "cell_type": "code",
   "execution_count": 2,
   "metadata": {
    "collapsed": true
   },
   "outputs": [],
   "source": [
    "import gym\n",
    "import numpy as np"
   ]
  },
  {
   "cell_type": "code",
   "execution_count": 3,
   "metadata": {
    "collapsed": true
   },
   "outputs": [],
   "source": [
    "import matplotlib.pyplot as plt"
   ]
  },
  {
   "cell_type": "code",
   "execution_count": 4,
   "metadata": {},
   "outputs": [
    {
     "name": "stderr",
     "output_type": "stream",
     "text": [
      "[2017-07-18 18:47:07,772] Making new env: FrozenLake-v0\n"
     ]
    }
   ],
   "source": [
    "env = gym.make('FrozenLake-v0')"
   ]
  },
  {
   "cell_type": "code",
   "execution_count": 5,
   "metadata": {},
   "outputs": [
    {
     "name": "stdout",
     "output_type": "stream",
     "text": [
      "Discrete(16)\n"
     ]
    }
   ],
   "source": [
    "print(env.observation_space)\n",
    "q_table = np.zeros([env.observation_space.n, env.action_space.n])"
   ]
  },
  {
   "cell_type": "code",
   "execution_count": 6,
   "metadata": {
    "collapsed": true
   },
   "outputs": [],
   "source": [
    "LR = 0.8\n",
    "Y = 0.95\n",
    "NUM_EPISODES = 2000"
   ]
  },
  {
   "cell_type": "code",
   "execution_count": 7,
   "metadata": {},
   "outputs": [
    {
     "name": "stderr",
     "output_type": "stream",
     "text": [
      "/home/paperspace/anaconda2/envs/p27/lib/python2.7/site-packages/ipykernel_launcher.py:19: RuntimeWarning: invalid value encountered in double_scalars\n",
      "/home/paperspace/anaconda2/envs/p27/lib/python2.7/site-packages/ipykernel_launcher.py:19: RuntimeWarning: divide by zero encountered in double_scalars\n"
     ]
    },
    {
     "name": "stdout",
     "output_type": "stream",
     "text": [
      "Score over time: 0.4295\n"
     ]
    }
   ],
   "source": [
    "%%monitor_cell FrozenLake Q-table\n",
    "rList = []\n",
    "cList = []\n",
    "for i in range(NUM_EPISODES):\n",
    "    s = env.reset()\n",
    "    rAll = 0\n",
    "    d = False\n",
    "    j = 0\n",
    "    change = []\n",
    "    while j < 99:\n",
    "        j+=1\n",
    "        random = np.random.randn(1, env.action_space.n) *(1./(i+1))\n",
    "        a = np.argmax(q_table[s,:] + random)\n",
    "        # s1 is observation, r is reward\n",
    "        s1, r, done, _ = env.step(a)\n",
    "        bef = q_table[s,a]\n",
    "        q_table[s,a] = q_table[s,a] + LR*(r + Y*np.max(q_table[s1,:]) - q_table[s,a])\n",
    "        aft = q_table[s,a]\n",
    "        delt = bef - aft\n",
    "        perc = min(round(abs((delt)/bef)*100), 300) # cap at 300% to avoid breaking the mean\n",
    "        change.append(perc)\n",
    "        \n",
    "#         print(\"Bef\",bef,\"aft\", aft, \"delt\", delt, \"%\", perc)\n",
    "\n",
    "        rAll += r\n",
    "\n",
    "        s = s1\n",
    "        if done:\n",
    "            break\n",
    "    rList.append(rAll)\n",
    "    cList.append(np.mean(change))\n",
    "print \"Score over time: \" +  str(sum(rList)/NUM_EPISODES)"
   ]
  },
  {
   "cell_type": "code",
   "execution_count": null,
   "metadata": {},
   "outputs": [],
   "source": []
  },
  {
   "cell_type": "code",
   "execution_count": null,
   "metadata": {},
   "outputs": [],
   "source": []
  },
  {
   "cell_type": "code",
   "execution_count": 11,
   "metadata": {},
   "outputs": [
    {
     "name": "stdout",
     "output_type": "stream",
     "text": [
      "Final Q-Table Values\n"
     ]
    },
    {
     "data": {
      "image/png": "[encoded data removed]",
      "text/plain": [
       "<matplotlib.figure.Figure at 0x7f68969206d0>"
      ]
     },
     "metadata": {},
     "output_type": "display_data"
    },
    {
     "name": "stdout",
     "output_type": "stream",
     "text": [
      "[[  0.00000000e+00   1.77225081e-01   3.06914288e-03   6.08194891e-03]\n",
      " [  4.76166737e-04   1.48318226e-04   2.88896276e-03   7.30156695e-02]\n",
      " [  9.28061454e-04   1.30626642e-03   1.83061628e-03   1.94278043e-02]\n",
      " [  5.84904740e-04   6.27323897e-04   1.42147842e-04   1.59919806e-02]\n",
      " [  4.15152800e-01   6.61580704e-04   6.88198886e-04   2.18180338e-04]\n",
      " [  0.00000000e+00   0.00000000e+00   0.00000000e+00   0.00000000e+00]\n",
      " [  1.41478748e-01   3.43197194e-04   8.52604592e-05   9.90012534e-09]\n",
      " [  0.00000000e+00   0.00000000e+00   0.00000000e+00   0.00000000e+00]\n",
      " [  1.68322166e-03   6.58476032e-04   1.19903367e-03   5.41424504e-01]\n",
      " [  0.00000000e+00   7.10778356e-01   0.00000000e+00   1.21083554e-03]\n",
      " [  9.07351201e-01   1.71965897e-04   7.20901126e-05   0.00000000e+00]\n",
      " [  0.00000000e+00   0.00000000e+00   0.00000000e+00   0.00000000e+00]\n",
      " [  0.00000000e+00   0.00000000e+00   0.00000000e+00   0.00000000e+00]\n",
      " [  0.00000000e+00   0.00000000e+00   8.28460092e-01   0.00000000e+00]\n",
      " [  0.00000000e+00   9.97328709e-01   0.00000000e+00   0.00000000e+00]\n",
      " [  0.00000000e+00   0.00000000e+00   0.00000000e+00   0.00000000e+00]]\n"
     ]
    }
   ],
   "source": [
    "print \"Final Q-Table Values\"\n",
    "plt.imshow(q_table)\n",
    "plt.show()\n",
    "print(q_table)"
   ]
  },
  {
   "cell_type": "code",
   "execution_count": null,
   "metadata": {
    "collapsed": true
   },
   "outputs": [],
   "source": []
  }
 ],
 "metadata": {
  "kernelspec": {
   "display_name": "Python 2",
   "language": "python",
   "name": "python2"
  },
  "language_info": {
   "codemirror_mode": {
    "name": "ipython",
    "version": 2
   },
   "file_extension": ".py",
   "mimetype": "text/x-python",
   "name": "python",
   "nbconvert_exporter": "python",
   "pygments_lexer": "ipython2",
   "version": "2.7.13"
  }
 },
 "nbformat": 4,
 "nbformat_minor": 2
}
